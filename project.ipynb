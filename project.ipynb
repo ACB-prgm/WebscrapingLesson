{
 "cells": [
  {
   "attachments": {},
   "cell_type": "markdown",
   "metadata": {},
   "source": [
    "# Webscraping Intro Project\n",
    "\n",
    "using the same website as in the intro (\"http://books.toscrape.com\"), create a web scraper that gets information on all the books in the website. At a minimum, this should include the name and price, but try and also get the rating if you are feeling motivated!"
   ]
  },
  {
   "cell_type": "code",
   "execution_count": null,
   "metadata": {
    "vscode": {
     "languageId": "plaintext"
    }
   },
   "outputs": [],
   "source": []
  }
 ],
 "metadata": {
  "language_info": {
   "name": "python"
  },
  "orig_nbformat": 4
 },
 "nbformat": 4,
 "nbformat_minor": 2
}
